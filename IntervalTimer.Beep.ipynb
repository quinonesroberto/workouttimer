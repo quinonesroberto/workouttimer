{
 "cells": [
  {
   "cell_type": "code",
   "execution_count": 1,
   "id": "17bb1d8c-820a-4ace-8587-d0c6173912ec",
   "metadata": {},
   "outputs": [
    {
     "name": "stdout",
     "output_type": "stream",
     "text": [
      "\n",
      "*** Work Out Timer ***\n",
      "\n"
     ]
    },
    {
     "ename": "ValueError",
     "evalue": "invalid literal for int() with base 10: ''",
     "output_type": "error",
     "traceback": [
      "\u001b[0;31m---------------------------------------------------------------------------\u001b[0m",
      "\u001b[0;31mValueError\u001b[0m                                Traceback (most recent call last)",
      "Cell \u001b[0;32mIn[1], line 10\u001b[0m\n\u001b[1;32m      7\u001b[0m \u001b[39mprint\u001b[39m(\u001b[39m'\u001b[39m\u001b[39m*** Work Out Timer ***\u001b[39m\u001b[39m'\u001b[39m)\n\u001b[1;32m      8\u001b[0m \u001b[39mprint\u001b[39m()\n\u001b[0;32m---> 10\u001b[0m cycles \u001b[39m=\u001b[39m \u001b[39mint\u001b[39;49m(\u001b[39minput\u001b[39;49m(\u001b[39m'\u001b[39;49m\u001b[39mNumber of cycles \u001b[39;49m\u001b[39m'\u001b[39;49m))\n\u001b[1;32m     11\u001b[0m seconds_per_excersice \u001b[39m=\u001b[39m \u001b[39mint\u001b[39m(\u001b[39minput\u001b[39m(\u001b[39m'\u001b[39m\u001b[39mSeconds for each exercise \u001b[39m\u001b[39m'\u001b[39m))\n\u001b[1;32m     12\u001b[0m seconds_per_rest \u001b[39m=\u001b[39m \u001b[39mint\u001b[39m(\u001b[39minput\u001b[39m(\u001b[39m'\u001b[39m\u001b[39mSeconds for each rest \u001b[39m\u001b[39m'\u001b[39m))\n",
      "\u001b[0;31mValueError\u001b[0m: invalid literal for int() with base 10: ''"
     ]
    }
   ],
   "source": [
    "import time\n",
    "import os\n",
    "\n",
    "\n",
    "\n",
    "print()\n",
    "print('*** Work Out Timer ***')\n",
    "print()\n",
    "\n",
    "cycles = int(input('Number of cycles '))\n",
    "seconds_per_excersice = int(input('Seconds for each exercise '))\n",
    "seconds_per_rest = int(input('Seconds for each rest '))\n",
    "print()\n",
    "\n",
    "spaces = ' '*30\n",
    "print('\\r Work out starts in: 5 ', end = '')\n",
    "for n in reversed(range(0, 5)):\n",
    "    time.sleep(1)\n",
    "    if n > 0:\n",
    "        print('\\r Work out starts in: {} '.format(n), end = '')\n",
    "    else:\n",
    "        time.sleep(1)\n",
    "        print('\\r Lets Rock!' + spaces, end='')\n",
    "\n",
    "os.system('afplay /System/Library/Sounds/Glass.aiff')\n",
    "\n",
    "\n",
    "for cycle in range(cycles):\n",
    "    print('\\rExcercise: 0' + spaces, end='' )\n",
    "    for n in range(seconds_per_excersice):\n",
    "        time.sleep(1)\n",
    "        print('\\rExcersice: {} '.format(n+1), end='')\n",
    "        \n",
    "    os.system('afplay /System/Library/Sounds/Glass.aiff')   \n",
    "    \n",
    "    if cycle + 1 == cycles:\n",
    "        print('\\rYOU DID IT!' + spaces, end='') \n",
    "        break\n",
    "    else: \n",
    "        print('\\rRest for: 0' + spaces, end='')\n",
    "        for n in range(seconds_per_rest):\n",
    "            time.sleep(1)\n",
    "            print('\\rRest for: {} '.format(n+1), end='') \n",
    "    os.system('afplay /System/Library/Sounds/Glass.aiff')\n",
    "    os.system('afplay /System/Library/Sounds/Glass.aiff')"
   ]
  },
  {
   "cell_type": "code",
   "execution_count": null,
   "id": "e6fa13bb-3e74-4c23-855e-7721ec08a5f5",
   "metadata": {},
   "outputs": [],
   "source": []
  }
 ],
 "metadata": {
  "kernelspec": {
   "display_name": "Python 3",
   "language": "python",
   "name": "python3"
  },
  "language_info": {
   "codemirror_mode": {
    "name": "ipython",
    "version": 3
   },
   "file_extension": ".py",
   "mimetype": "text/x-python",
   "name": "python",
   "nbconvert_exporter": "python",
   "pygments_lexer": "ipython3",
   "version": "3.11.2"
  }
 },
 "nbformat": 4,
 "nbformat_minor": 5
}
