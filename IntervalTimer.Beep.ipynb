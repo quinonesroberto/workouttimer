{
 "cells": [
  {
   "cell_type": "code",
   "execution_count": null,
   "id": "17bb1d8c-820a-4ace-8587-d0c6173912ec",
   "metadata": {},
   "outputs": [
    {
     "name": "stdout",
     "output_type": "stream",
     "text": [
      "\n",
      "*** Work Out Timer ***\n",
      "\n"
     ]
    }
   ],
   "source": [
    "import time\n",
    "import winsound\n",
    "\n",
    "\n",
    "\n",
    "print()\n",
    "print('*** Work Out Timer ***')\n",
    "print()\n",
    "\n",
    "cycles = int(input('Number of cycles '))\n",
    "seconds_per_excersice = int(input('Seconds for each exercise '))\n",
    "seconds_per_rest = int(input('Seconds for each rest '))\n",
    "print()\n",
    "\n",
    "spaces = ' '*30\n",
    "print('\\r Work out starts in: 5 ', end = '')\n",
    "for n in reversed(range(0, 5)):\n",
    "    time.sleep(1)\n",
    "    if n > 0:\n",
    "        print('\\r Work out starts in: {} '.format(n), end = '')\n",
    "    else:\n",
    "        time.sleep(1)\n",
    "        print('\\r Lets Rock!' + spaces, end='')\n",
    "\n",
    "winsound.Beep(1000, 1000)\n",
    "\n",
    "\n",
    "for cycle in range(cycles):\n",
    "    print('\\rExcercise: 0' + spaces, end='' )\n",
    "    for n in range(seconds_per_excersice):\n",
    "        time.sleep(1)\n",
    "        print('\\rExcersice: {} '.format(n+1), end='')\n",
    "        \n",
    "    winsound.Beep(1000, 500)    \n",
    "    \n",
    "    if cycle + 1 == cycles:\n",
    "        print('\\rYOU DID IT!' + spaces, end='') \n",
    "        break\n",
    "    else: \n",
    "        print('\\rRest for: 0' + spaces, end='')\n",
    "        for n in range(seconds_per_rest):\n",
    "            time.sleep(1)\n",
    "            print('\\rRest for: {} '.format(n+1), end='') \n",
    "    winsound.Beep(1000, 150)\n",
    "    winsound.Beep(1000, 150)"
   ]
  },
  {
   "cell_type": "code",
   "execution_count": null,
   "id": "e6fa13bb-3e74-4c23-855e-7721ec08a5f5",
   "metadata": {},
   "outputs": [],
   "source": []
  }
 ],
 "metadata": {
  "kernelspec": {
   "display_name": "Python 3",
   "language": "python",
   "name": "python3"
  },
  "language_info": {
   "codemirror_mode": {
    "name": "ipython",
    "version": 3
   },
   "file_extension": ".py",
   "mimetype": "text/x-python",
   "name": "python",
   "nbconvert_exporter": "python",
   "pygments_lexer": "ipython3",
   "version": "3.8.8"
  }
 },
 "nbformat": 4,
 "nbformat_minor": 5
}
